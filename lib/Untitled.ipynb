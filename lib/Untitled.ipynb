{
 "cells": [
  {
   "cell_type": "markdown",
   "id": "60cee20b",
   "metadata": {},
   "source": [
    "Model performance function:"
   ]
  },
  {
   "cell_type": "code",
   "execution_count": 1,
   "id": "4388712d",
   "metadata": {},
   "outputs": [],
   "source": [
    "def model_performance_class(y_train, y_pred_train, y_test, y_pred_test):\n",
    "\n",
    "    from sklearn.metrics import cohen_kappa_score, classification_report \n",
    "\n",
    "\n",
    "    print(\"Results obtained for the TRAIN SET\")\n",
    "    print(\"==================================\")\n",
    "    print(\"The Cohen's Kappa is: {:.2f}\".format(cohen_kappa_score(y_train, y_pred_train)))\n",
    "    print(classification_report(y_train, y_pred_train))\n",
    "    print(\"==================================\")\n",
    "    print(\"Results obtained for the TEST SET\")\n",
    "    print(\"The Cohen's Kappa is: {:.2f}\".format(cohen_kappa_score(y_test, y_pred_test)))\n",
    "    print(classification_report(y_test, y_pred_test))"
   ]
  },
  {
   "cell_type": "markdown",
   "id": "a93a56a7",
   "metadata": {},
   "source": [
    "Neural Network functions"
   ]
  },
  {
   "cell_type": "code",
   "execution_count": null,
   "id": "4f3d357a",
   "metadata": {},
   "outputs": [],
   "source": [
    "def plot_metric(history, metric):\n",
    "    train_metrics = history.history[metric] # Get the error metric for the TRAIN set\n",
    "    val_metrics = history.history['val_'+metric] # Get the error metric for the VALIDATION set\n",
    "    epochs = range(1, len(train_metrics) + 1) # range(1,6) -> 1,2,3,4,5\n",
    "    plt.plot(epochs, train_metrics)\n",
    "    plt.plot(epochs, val_metrics)\n",
    "    plt.title('Training and validation '+ metric)\n",
    "    plt.xlabel(\"Epochs\")\n",
    "    plt.ylabel(metric)\n",
    "    plt.yscale('log')\n",
    "    plt.legend([\"train_\"+metric, 'val_'+metric])\n",
    "    plt.show()"
   ]
  },
  {
   "cell_type": "code",
   "execution_count": null,
   "id": "6901329c",
   "metadata": {},
   "outputs": [],
   "source": []
  },
  {
   "cell_type": "code",
   "execution_count": null,
   "id": "81e7425c",
   "metadata": {},
   "outputs": [],
   "source": [
    "def create_cla_nn_model(inputs,layer_list= [27,14,6],\n",
    "                        activations = ['sigmoid','softmax','softmax'],\n",
    "                        dropouts = [0.25,0.1,0],\n",
    "                        regularizers = [('l1',0.01),('l2',0.01)]):\n",
    "    '''\n",
    "    This function creates a neural network with the given amount of layers, neurons,\n",
    "    activations, dropouts and regularizers.\n",
    "    Inputs: \n",
    "    inputs -> input size. It must be integer\n",
    "    activations -> a list of activation functions to be used in each layer\n",
    "    droputs -> a list of dropouts coefficients to be used in each layer except the last one\n",
    "    regularizers -> a list of regularizers to be used in the last layer. Coefficients should\n",
    "    be set to zero if no regularizers are wanted.\n",
    "    Output:\n",
    "    neural network already compiled with: 'adam' optimizer and 'mse' as the loss.\n",
    "    '''\n",
    "    \n",
    "    model = keras.Sequential()\n",
    "\n",
    "    my_list = list(zip(layer_list,activations,dropouts))\n",
    "\n",
    "    for index, elem in enumerate(my_list):\n",
    "        if ( index == 0 ):    # first layer  \n",
    "            model.add(Dense(units = elem[0],input_dim = inputs,activation=elem[1]))\n",
    "            if ( elem[2] != 0 ):#elements of a tuple\n",
    "            # Adding a dropout layer with regularization parameter (it must be between [0,1) )\n",
    "                model.add(Dropout(elem[2]))\n",
    "        else:#all other layers\n",
    "            model.add(Dense(units = elem[0],activation=elem[1]))\n",
    "        if ( index == len(my_list) ): #last layer\n",
    "            model.add(Dense(elem[0], activation=elem[1],\n",
    "                            activity_regularizer=\n",
    "                            regularizers.l1_l2(l1=regularizers[0][1], l2=regularizers[1][1])))\n",
    "\n",
    "    # Compile the final network\n",
    "    model.compile(optimizer='rmsprop', # Optimization method\n",
    "              loss='categorical_crossentropy', # Error metric to minimize\n",
    "              metrics=['accuracy'] # Error metrics to report\n",
    "              )\n",
    "\n",
    "    model.summary()\n",
    "\n",
    "    return model"
   ]
  }
 ],
 "metadata": {
  "kernelspec": {
   "display_name": "Python 3 (ipykernel)",
   "language": "python",
   "name": "python3"
  },
  "language_info": {
   "codemirror_mode": {
    "name": "ipython",
    "version": 3
   },
   "file_extension": ".py",
   "mimetype": "text/x-python",
   "name": "python",
   "nbconvert_exporter": "python",
   "pygments_lexer": "ipython3",
   "version": "3.9.7"
  },
  "toc": {
   "base_numbering": 1,
   "nav_menu": {},
   "number_sections": true,
   "sideBar": true,
   "skip_h1_title": false,
   "title_cell": "Table of Contents",
   "title_sidebar": "Contents",
   "toc_cell": false,
   "toc_position": {},
   "toc_section_display": true,
   "toc_window_display": false
  }
 },
 "nbformat": 4,
 "nbformat_minor": 5
}
